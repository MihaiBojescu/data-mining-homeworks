{
 "cells": [
  {
   "cell_type": "markdown",
   "metadata": {},
   "source": [
    "# Homework 1"
   ]
  },
  {
   "cell_type": "markdown",
   "metadata": {},
   "source": [
    "## Dependencies"
   ]
  },
  {
   "cell_type": "code",
   "execution_count": 58,
   "metadata": {},
   "outputs": [],
   "source": [
    "import csv\n",
    "from matplotlib import pyplot as plt\n",
    "import typing as t\n",
    "import numpy as np\n",
    "import numpy.typing as npt\n",
    "import pandas as pd\n",
    "from statistics import mode as stats_mode\n",
    "from scipy import stats as scpy_stats\n",
    "\n",
    "import warnings\n",
    "warnings.filterwarnings(\"ignore\")"
   ]
  },
  {
   "cell_type": "code",
   "execution_count": 2,
   "metadata": {},
   "outputs": [],
   "source": [
    "class Person:\n",
    "    Gender: str\n",
    "    Age: int\n",
    "    Height: float\n",
    "    Weight: float\n",
    "    family_history_with_overweight: str\n",
    "    FAVC: str\n",
    "    FCVC: int\n",
    "    NCP: int\n",
    "    CAEC: str\n",
    "    SMOKE: str\n",
    "    CH2O: int\n",
    "    SCC: str\n",
    "    FAF: str\n",
    "    TUE: int\n",
    "    CALC: str\n",
    "    MTRANS: str\n",
    "    NObeyesdad: str\n",
    "\n",
    "    def __init__(\n",
    "        self,\n",
    "        Gender: str,\n",
    "        Age: int,\n",
    "        Height: float,\n",
    "        Weight: float,\n",
    "        family_history_with_overweight: str,\n",
    "        FAVC: str,\n",
    "        FCVC: int,\n",
    "        NCP: int,\n",
    "        CAEC: str,\n",
    "        SMOKE: str,\n",
    "        CH2O: int,\n",
    "        SCC: str,\n",
    "        FAF: int,\n",
    "        TUE: int,\n",
    "        CALC: str,\n",
    "        MTRANS: str,\n",
    "        NObeyesdad: str,\n",
    "    ):\n",
    "        self.Gender = Gender\n",
    "        self.Age = Age\n",
    "        self.Height = Height\n",
    "        self.Weight = Weight\n",
    "        self.family_history_with_overweight = family_history_with_overweight\n",
    "        self.FAVC = FAVC\n",
    "        self.FCVC = FCVC\n",
    "        self.NCP = NCP\n",
    "        self.CAEC = CAEC\n",
    "        self.SMOKE = SMOKE\n",
    "        self.CH2O = CH2O\n",
    "        self.SCC = SCC\n",
    "        self.FAF = FAF\n",
    "        self.TUE = TUE\n",
    "        self.CALC = CALC\n",
    "        self.MTRANS = MTRANS\n",
    "        self.NObeyesdad = NObeyesdad\n",
    "\n",
    "    def __str__(self):\n",
    "        return (\n",
    "            \"{\"\n",
    "            + f'\"Gender\": \"{self.Gender}\",'\n",
    "            + f'\"Age\": {self.Age},'\n",
    "            + f'\"Height\": {self.Height},'\n",
    "            + f'\"Weight\": {self.Weight},'\n",
    "            + f'\"family_history_with_overweight\": \"{self.family_history_with_overweight}\",'\n",
    "            + f'\"FAVC\": \"{self.FAVC}\",'\n",
    "            + f'\"FCVC\": {self.FCVC},'\n",
    "            + f'\"NCP\": {self.NCP},'\n",
    "            + f'\"CAEC\": \"{self.CAEC}\",'\n",
    "            + f'\"SMOKE\": \"{self.SMOKE}\",'\n",
    "            + f'\"CH2O\": {self.CH2O},'\n",
    "            + f'\"SCC\": {self.SCC},'\n",
    "            + f'\"FAF\": \"{self.FAF}\",'\n",
    "            + f'\"TUE\": {self.TUE},'\n",
    "            + f'\"CALC\": \"{self.CALC}\",'\n",
    "            + f'\"MTRANS\": \"{self.MTRANS}\",'\n",
    "            + f'\"NObeyesdad\": \"{self.NObeyesdad}\"'\n",
    "            + \"}\"\n",
    "        )\n",
    "    \n",
    "    def __len__(self):\n",
    "        return 17\n",
    "    \n",
    "    __repr__ = __str__"
   ]
  },
  {
   "cell_type": "code",
   "execution_count": 30,
   "outputs": [],
   "source": [
    "NUMERICAL_VARIABLES = [\"Age\", \"Height\", \"Weight\", \"FCVC\", \"NCP\", \"CH2O\", \"FAF\", \"TUE\"]\n",
    "CATEGORICAL_VARIABLES = [\"FAVC\", \"CAEC\", \"CALC\", \"SCC\", \"MTRANS\", \"Gender\", \"family_history_with_overweight\", \"SMOKE\", \"NObeyesdad\"]"
   ],
   "metadata": {
    "collapsed": false
   }
  },
  {
   "cell_type": "code",
   "execution_count": 60,
   "outputs": [],
   "source": [
    "class DatasetManager:\n",
    "    def __init__(self, path_to_csv: str):\n",
    "        self.path_to_csv = path_to_csv\n",
    "\n",
    "    def load_as_obj_list(self) -> list[Person]:\n",
    "        with open(self.path_to_csv) as csv_file:\n",
    "            csv_reader = csv.DictReader(csv_file)\n",
    "            return [Person(**row) for row in csv_reader]\n",
    "\n",
    "    @staticmethod\n",
    "    def obj_list_to_np_array(data: list[Person], attrs_list: list[str] = NUMERICAL_VARIABLES + CATEGORICAL_VARIABLES) -> np.array:\n",
    "        return np.array([[getattr(entry, field) for field in attrs_list] for entry in data])\n",
    "\n",
    "    @staticmethod\n",
    "    def obj_list_to_np_array_numeric(data: list[Person], attrs_list: list[str] = NUMERICAL_VARIABLES + CATEGORICAL_VARIABLES) -> np.array:\n",
    "        return DatasetManager.obj_list_to_np_array(data, attrs_list).astype(np.float64)\n",
    "\n",
    "    @staticmethod\n",
    "    def obj_list_to_np_array_category(data: list[Person], attrs_list: list[str] = NUMERICAL_VARIABLES + CATEGORICAL_VARIABLES) -> np.array:\n",
    "        data_pd = pd.DataFrame(DatasetManager.obj_list_to_np_array(data, attrs_list))\n",
    "        return np.vstack([pd.factorize(data_pd[col])[0] for col in data_pd.columns]).T\n",
    "\n",
    "    @staticmethod\n",
    "    def object_list_to_pd_dataframe_category(data: list[Person], attr: str) -> pd.DataFrame:\n",
    "        data_pd = pd.DataFrame(DatasetManager.obj_list_to_np_array(data, [attr]))\n",
    "        \n"
   ],
   "metadata": {
    "collapsed": false
   }
  },
  {
   "cell_type": "code",
   "execution_count": 32,
   "metadata": {},
   "outputs": [],
   "source": [
    "dataset_manager = DatasetManager(\"data/ObesityDataSet.csv\")\n",
    "dataset_obj_list = dataset_manager.load_as_obj_list()\n"
   ]
  },
  {
   "cell_type": "markdown",
   "metadata": {},
   "source": [
    "## Univariate analysis\n",
    "\n",
    "The following will be applied:\n",
    "1. central tendency\n",
    "1. spread\n",
    "1. distribution form (skewness, kurtosis)\n",
    "1. frequency of categorial data\n",
    "1. graphs (boxplots, histograms, density)"
   ]
  },
  {
   "cell_type": "markdown",
   "metadata": {},
   "source": [
    "### 1. Central tendency"
   ]
  },
  {
   "cell_type": "code",
   "execution_count": 33,
   "metadata": {},
   "outputs": [],
   "source": [
    "def central_tendency_numerical(np_dataset: np.array) -> t.Tuple[float, float, float]:\n",
    "    mean = np.mean(np_dataset)\n",
    "    median = np.median(np_dataset)\n",
    "    mode = stats_mode(np_dataset)\n",
    "\n",
    "    return mean, median, mode\n"
   ]
  },
  {
   "cell_type": "code",
   "execution_count": 34,
   "metadata": {},
   "outputs": [
    {
     "name": "stdout",
     "output_type": "stream",
     "text": [
      "On numerical var Age\n",
      "Mean: 24.312599908574136\n",
      "Median: 22.77789\n",
      "Mode: 18.0\n",
      "['----------']\n",
      "\n",
      "On numerical var Height\n",
      "Mean: 1.7016773533870204\n",
      "Median: 1.700499\n",
      "Mode: 1.7\n",
      "['----------']\n",
      "\n",
      "On numerical var Weight\n",
      "Mean: 86.58605812648035\n",
      "Median: 83.0\n",
      "Mode: 80.0\n",
      "['----------']\n",
      "\n",
      "On numerical var FCVC\n",
      "Mean: 2.4190430615821885\n",
      "Median: 2.385502\n",
      "Mode: 3.0\n",
      "['----------']\n",
      "\n",
      "On numerical var NCP\n",
      "Mean: 2.6856280497394596\n",
      "Median: 3.0\n",
      "Mode: 3.0\n",
      "['----------']\n",
      "\n",
      "On numerical var CH2O\n",
      "Mean: 2.0080114040738986\n",
      "Median: 2.0\n",
      "Mode: 2.0\n",
      "['----------']\n",
      "\n",
      "On numerical var FAF\n",
      "Mean: 1.0102976958787304\n",
      "Median: 1.0\n",
      "Mode: 0.0\n",
      "['----------']\n",
      "\n",
      "On numerical var TUE\n",
      "Mean: 0.657865923732828\n",
      "Median: 0.62535\n",
      "Mode: 0.0\n",
      "['----------']\n",
      "\n"
     ]
    }
   ],
   "source": [
    "for numerical_var in NUMERICAL_VARIABLES:\n",
    "    dataset_for_numerical_val = DatasetManager.obj_list_to_np_array(dataset_obj_list, [numerical_var]).astype(np.float64).reshape(-1)\n",
    "    mean, median, mode = central_tendency_numerical(dataset_for_numerical_val)\n",
    "    print(f\"On numerical var {numerical_var}\\nMean: {mean}\\nMedian: {median}\\nMode: {mode}\\n{['-' * 10]}\\n\")\n",
    "    # MODE nu cred ca e si la variabile numerice"
   ]
  },
  {
   "cell_type": "markdown",
   "source": [
    "# Multivariate analysis\n"
   ],
   "metadata": {
    "collapsed": false
   }
  },
  {
   "cell_type": "markdown",
   "source": [
    "## Find Pearson Correlation and Spearman (Rank) correlation"
   ],
   "metadata": {
    "collapsed": false
   }
  },
  {
   "cell_type": "code",
   "execution_count": 48,
   "outputs": [],
   "source": [
    "pearson_correlation: list[tuple[str, str, float]] = []\n",
    "rank_correlation: list[tuple[str, str, float]] = []\n",
    "\n",
    "for it in range(len(NUMERICAL_VARIABLES) - 1):\n",
    "    for jt in range(it + 1, len(NUMERICAL_VARIABLES)):\n",
    "        lh_var, rh_var = NUMERICAL_VARIABLES[it], NUMERICAL_VARIABLES[jt]\n",
    "\n",
    "        lh_dataset = DatasetManager.obj_list_to_np_array_numeric(dataset_obj_list, [lh_var]).reshape(-1)\n",
    "\n",
    "        rh_dataset = DatasetManager.obj_list_to_np_array_numeric(dataset_obj_list, [rh_var]).reshape(-1)\n",
    "\n",
    "        pearson_cr = scpy_stats.pearsonr(lh_dataset, rh_dataset).correlation\n",
    "        rank_cr = scpy_stats.spearmanr(lh_dataset, rh_dataset).correlation\n",
    "\n",
    "        pearson_correlation.append((lh_var, rh_var, pearson_cr))\n",
    "        rank_correlation.append((lh_var, rh_var, rank_cr))"
   ],
   "metadata": {
    "collapsed": false
   }
  },
  {
   "cell_type": "code",
   "execution_count": 49,
   "outputs": [
    {
     "name": "stdout",
     "output_type": "stream",
     "text": [
      "Pearson Correlation\n",
      "\n",
      "\n",
      "('Age', 'TUE', -0.29693059206832445)\n",
      "\n",
      "('Age', 'FAF', -0.14493832661742825)\n",
      "\n",
      "('FCVC', 'TUE', -0.10113484623419641)\n",
      "\n",
      "('Weight', 'TUE', -0.0715613589600356)\n",
      "\n",
      "('Weight', 'FAF', -0.051436269504154954)\n",
      "\n",
      "('Age', 'CH2O', -0.04530385780197364)\n",
      "\n",
      "('Age', 'NCP', -0.04394372656120909)\n",
      "\n",
      "('Height', 'FCVC', -0.038121058395855126)\n",
      "\n",
      "('Age', 'Height', -0.025958134319575273)\n",
      "\n",
      "('CH2O', 'TUE', 0.011965338418187086)\n",
      "\n",
      "('Age', 'FCVC', 0.01629088605342349)\n",
      "\n",
      "('FCVC', 'FAF', 0.01993939834871631)\n",
      "\n",
      "('NCP', 'TUE', 0.036325572284850595)\n",
      "\n",
      "('FCVC', 'NCP', 0.04221629598271067)\n",
      "\n",
      "('Height', 'TUE', 0.051911666347923505)\n",
      "\n",
      "('NCP', 'CH2O', 0.05708799585311864)\n",
      "\n",
      "('FAF', 'TUE', 0.05856206584303308)\n",
      "\n",
      "('FCVC', 'CH2O', 0.06846147191156751)\n",
      "\n",
      "('Weight', 'NCP', 0.10746898796844365)\n",
      "\n",
      "('NCP', 'FAF', 0.12950430683838984)\n",
      "\n",
      "('CH2O', 'FAF', 0.16723649219164036)\n",
      "\n",
      "('Weight', 'CH2O', 0.20057538691633658)\n",
      "\n",
      "('Age', 'Weight', 0.20256010359865873)\n",
      "\n",
      "('Height', 'CH2O', 0.2133759171103621)\n",
      "\n",
      "('Weight', 'FCVC', 0.21612470500918665)\n",
      "\n",
      "('Height', 'NCP', 0.24367172595790462)\n",
      "\n",
      "('Height', 'FAF', 0.29470899846596593)\n",
      "\n",
      "('Height', 'Weight', 0.4631361166156266)\n",
      "\n"
     ]
    }
   ],
   "source": [
    "pearson_correlation = list(sorted(pearson_correlation, key=lambda x: x[2]))\n",
    "print(f\"Pearson Correlation\\n\\n\")\n",
    "for item in pearson_correlation:\n",
    "    print(f\"{item}\\n\")"
   ],
   "metadata": {
    "collapsed": false
   }
  },
  {
   "cell_type": "code",
   "execution_count": 50,
   "outputs": [
    {
     "name": "stdout",
     "output_type": "stream",
     "text": [
      "Rank Correlation\n",
      "\n",
      "\n",
      "('Age', 'TUE', -0.29807629070494945)\n",
      "\n",
      "('Age', 'FAF', -0.20831375458250287)\n",
      "\n",
      "('Age', 'NCP', -0.1056676147687238)\n",
      "\n",
      "('FCVC', 'TUE', -0.08751427099494341)\n",
      "\n",
      "('Height', 'FCVC', -0.0560789812639322)\n",
      "\n",
      "('Weight', 'TUE', -0.0498696877020995)\n",
      "\n",
      "('Weight', 'FAF', -0.04387104884312014)\n",
      "\n",
      "('Age', 'Height', -0.0029564853729459706)\n",
      "\n",
      "('Weight', 'NCP', 0.0028753532017528434)\n",
      "\n",
      "('Age', 'CH2O', 0.01306394003222349)\n",
      "\n",
      "('CH2O', 'TUE', 0.023161743695596683)\n",
      "\n",
      "('FCVC', 'FAF', 0.02768765071431842)\n",
      "\n",
      "('FAF', 'TUE', 0.05062900197946862)\n",
      "\n",
      "('Age', 'FCVC', 0.06159363184028231)\n",
      "\n",
      "('FCVC', 'CH2O', 0.06569298366637302)\n",
      "\n",
      "('NCP', 'CH2O', 0.07022705632122264)\n",
      "\n",
      "('Height', 'TUE', 0.08154809622237319)\n",
      "\n",
      "('FCVC', 'NCP', 0.08618653258012095)\n",
      "\n",
      "('NCP', 'TUE', 0.08726794187829554)\n",
      "\n",
      "('NCP', 'FAF', 0.14491208415223555)\n",
      "\n",
      "('CH2O', 'FAF', 0.15572041774565834)\n",
      "\n",
      "('Height', 'NCP', 0.20378695212085873)\n",
      "\n",
      "('Weight', 'FCVC', 0.20841708075953239)\n",
      "\n",
      "('Height', 'CH2O', 0.2252371954248203)\n",
      "\n",
      "('Weight', 'CH2O', 0.2255923594627013)\n",
      "\n",
      "('Height', 'FAF', 0.32587044461242604)\n",
      "\n",
      "('Age', 'Weight', 0.35677053757107424)\n",
      "\n",
      "('Height', 'Weight', 0.4625481443436106)\n",
      "\n"
     ]
    }
   ],
   "source": [
    "rank_correlation = list(sorted(rank_correlation, key=lambda x: x[2]))\n",
    "print(f\"Rank Correlation\\n\\n\")\n",
    "for item in rank_correlation:\n",
    "    print(f\"{item}\\n\")"
   ],
   "metadata": {
    "collapsed": false
   }
  },
  {
   "cell_type": "code",
   "execution_count": 52,
   "outputs": [
    {
     "name": "stdout",
     "output_type": "stream",
     "text": [
      "[('Age', 'TUE', -0.29693059206832445), ('Age', 'FAF', -0.14493832661742825), ('FCVC', 'TUE', -0.10113484623419641), ('Age', 'Weight', 0.20256010359865873), ('Height', 'CH2O', 0.2133759171103621), ('Weight', 'FCVC', 0.21612470500918665), ('Height', 'NCP', 0.24367172595790462), ('Height', 'FAF', 0.29470899846596593), ('Height', 'Weight', 0.4631361166156266)]\n"
     ]
    }
   ],
   "source": [
    "best_numerical_correlations = pearson_correlation[:3] + pearson_correlation[-6:]\n",
    "print(best_numerical_correlations)"
   ],
   "metadata": {
    "collapsed": false
   }
  },
  {
   "cell_type": "code",
   "execution_count": 53,
   "outputs": [],
   "source": [
    "## Phi squared test and contingency tables"
   ],
   "metadata": {
    "collapsed": false
   }
  },
  {
   "cell_type": "code",
   "execution_count": 65,
   "outputs": [
    {
     "ename": "KeyboardInterrupt",
     "evalue": "",
     "output_type": "error",
     "traceback": [
      "\u001B[1;31m---------------------------------------------------------------------------\u001B[0m",
      "\u001B[1;31mKeyboardInterrupt\u001B[0m                         Traceback (most recent call last)",
      "Cell \u001B[1;32mIn[65], line 7\u001B[0m\n\u001B[0;32m      3\u001B[0m lh_var, rh_var \u001B[38;5;241m=\u001B[39m CATEGORICAL_VARIABLES[it], CATEGORICAL_VARIABLES[jt]\n\u001B[0;32m      5\u001B[0m lh_dataset \u001B[38;5;241m=\u001B[39m DatasetManager\u001B[38;5;241m.\u001B[39mobj_list_to_np_array(dataset_obj_list, [lh_var])\u001B[38;5;241m.\u001B[39mastype(np\u001B[38;5;241m.\u001B[39mobject)\u001B[38;5;241m.\u001B[39mreshape(\u001B[38;5;241m-\u001B[39m\u001B[38;5;241m1\u001B[39m)\n\u001B[1;32m----> 7\u001B[0m rh_dataset \u001B[38;5;241m=\u001B[39m \u001B[43mDatasetManager\u001B[49m\u001B[38;5;241m.\u001B[39mobj_list_to_np_array(dataset_obj_list, [rh_var])\u001B[38;5;241m.\u001B[39mastype(np\u001B[38;5;241m.\u001B[39mobject)\u001B[38;5;241m.\u001B[39mreshape(\u001B[38;5;241m-\u001B[39m\u001B[38;5;241m1\u001B[39m)\n\u001B[0;32m      9\u001B[0m chi2_test \u001B[38;5;241m=\u001B[39m scpy_stats\u001B[38;5;241m.\u001B[39mchisquare(lh_dataset, rh_dataset)\n\u001B[0;32m     11\u001B[0m \u001B[38;5;28mprint\u001B[39m(\u001B[38;5;124m\"\u001B[39m\u001B[38;5;124mda\u001B[39m\u001B[38;5;124m\"\u001B[39m)\n",
      "Cell \u001B[1;32mIn[65], line 7\u001B[0m\n\u001B[0;32m      3\u001B[0m lh_var, rh_var \u001B[38;5;241m=\u001B[39m CATEGORICAL_VARIABLES[it], CATEGORICAL_VARIABLES[jt]\n\u001B[0;32m      5\u001B[0m lh_dataset \u001B[38;5;241m=\u001B[39m DatasetManager\u001B[38;5;241m.\u001B[39mobj_list_to_np_array(dataset_obj_list, [lh_var])\u001B[38;5;241m.\u001B[39mastype(np\u001B[38;5;241m.\u001B[39mobject)\u001B[38;5;241m.\u001B[39mreshape(\u001B[38;5;241m-\u001B[39m\u001B[38;5;241m1\u001B[39m)\n\u001B[1;32m----> 7\u001B[0m rh_dataset \u001B[38;5;241m=\u001B[39m \u001B[43mDatasetManager\u001B[49m\u001B[38;5;241m.\u001B[39mobj_list_to_np_array(dataset_obj_list, [rh_var])\u001B[38;5;241m.\u001B[39mastype(np\u001B[38;5;241m.\u001B[39mobject)\u001B[38;5;241m.\u001B[39mreshape(\u001B[38;5;241m-\u001B[39m\u001B[38;5;241m1\u001B[39m)\n\u001B[0;32m      9\u001B[0m chi2_test \u001B[38;5;241m=\u001B[39m scpy_stats\u001B[38;5;241m.\u001B[39mchisquare(lh_dataset, rh_dataset)\n\u001B[0;32m     11\u001B[0m \u001B[38;5;28mprint\u001B[39m(\u001B[38;5;124m\"\u001B[39m\u001B[38;5;124mda\u001B[39m\u001B[38;5;124m\"\u001B[39m)\n",
      "File \u001B[1;32mC:\\Program Files\\JetBrains\\PyCharm 2022.3.2\\plugins\\python\\helpers\\pydev\\_pydevd_bundle\\pydevd_frame.py:880\u001B[0m, in \u001B[0;36mPyDBFrame.trace_dispatch\u001B[1;34m(self, frame, event, arg)\u001B[0m\n\u001B[0;32m    877\u001B[0m             stop \u001B[38;5;241m=\u001B[39m \u001B[38;5;28;01mFalse\u001B[39;00m\n\u001B[0;32m    879\u001B[0m \u001B[38;5;28;01mif\u001B[39;00m plugin_stop:\n\u001B[1;32m--> 880\u001B[0m     stopped_on_plugin \u001B[38;5;241m=\u001B[39m \u001B[43mplugin_manager\u001B[49m\u001B[38;5;241;43m.\u001B[39;49m\u001B[43mstop\u001B[49m\u001B[43m(\u001B[49m\u001B[43mmain_debugger\u001B[49m\u001B[43m,\u001B[49m\u001B[43m \u001B[49m\u001B[43mframe\u001B[49m\u001B[43m,\u001B[49m\u001B[43m \u001B[49m\u001B[43mevent\u001B[49m\u001B[43m,\u001B[49m\u001B[43m \u001B[49m\u001B[38;5;28;43mself\u001B[39;49m\u001B[38;5;241;43m.\u001B[39;49m\u001B[43m_args\u001B[49m\u001B[43m,\u001B[49m\u001B[43m \u001B[49m\u001B[43mstop_info\u001B[49m\u001B[43m,\u001B[49m\u001B[43m \u001B[49m\u001B[43marg\u001B[49m\u001B[43m,\u001B[49m\u001B[43m \u001B[49m\u001B[43mstep_cmd\u001B[49m\u001B[43m)\u001B[49m\n\u001B[0;32m    881\u001B[0m \u001B[38;5;28;01melif\u001B[39;00m stop:\n\u001B[0;32m    882\u001B[0m     \u001B[38;5;28;01mif\u001B[39;00m is_line:\n",
      "File \u001B[1;32mC:\\Program Files\\JetBrains\\PyCharm 2022.3.2\\plugins\\python\\helpers-pro\\jupyter_debug\\pydev_jupyter_plugin.py:169\u001B[0m, in \u001B[0;36mstop\u001B[1;34m(plugin, pydb, frame, event, args, stop_info, arg, step_cmd)\u001B[0m\n\u001B[0;32m    167\u001B[0m     frame \u001B[38;5;241m=\u001B[39m suspend_jupyter(main_debugger, thread, frame, step_cmd)\n\u001B[0;32m    168\u001B[0m     \u001B[38;5;28;01mif\u001B[39;00m frame:\n\u001B[1;32m--> 169\u001B[0m         \u001B[43mmain_debugger\u001B[49m\u001B[38;5;241;43m.\u001B[39;49m\u001B[43mdo_wait_suspend\u001B[49m\u001B[43m(\u001B[49m\u001B[43mthread\u001B[49m\u001B[43m,\u001B[49m\u001B[43m \u001B[49m\u001B[43mframe\u001B[49m\u001B[43m,\u001B[49m\u001B[43m \u001B[49m\u001B[43mevent\u001B[49m\u001B[43m,\u001B[49m\u001B[43m \u001B[49m\u001B[43marg\u001B[49m\u001B[43m)\u001B[49m\n\u001B[0;32m    170\u001B[0m         \u001B[38;5;28;01mreturn\u001B[39;00m \u001B[38;5;28;01mTrue\u001B[39;00m\n\u001B[0;32m    171\u001B[0m \u001B[38;5;28;01mreturn\u001B[39;00m \u001B[38;5;28;01mFalse\u001B[39;00m\n",
      "File \u001B[1;32mC:\\Program Files\\JetBrains\\PyCharm 2022.3.2\\plugins\\python\\helpers\\pydev\\pydevd.py:1160\u001B[0m, in \u001B[0;36mPyDB.do_wait_suspend\u001B[1;34m(self, thread, frame, event, arg, send_suspend_message, is_unhandled_exception)\u001B[0m\n\u001B[0;32m   1157\u001B[0m         from_this_thread\u001B[38;5;241m.\u001B[39mappend(frame_id)\n\u001B[0;32m   1159\u001B[0m \u001B[38;5;28;01mwith\u001B[39;00m \u001B[38;5;28mself\u001B[39m\u001B[38;5;241m.\u001B[39m_threads_suspended_single_notification\u001B[38;5;241m.\u001B[39mnotify_thread_suspended(thread_id, stop_reason):\n\u001B[1;32m-> 1160\u001B[0m     \u001B[38;5;28;43mself\u001B[39;49m\u001B[38;5;241;43m.\u001B[39;49m\u001B[43m_do_wait_suspend\u001B[49m\u001B[43m(\u001B[49m\u001B[43mthread\u001B[49m\u001B[43m,\u001B[49m\u001B[43m \u001B[49m\u001B[43mframe\u001B[49m\u001B[43m,\u001B[49m\u001B[43m \u001B[49m\u001B[43mevent\u001B[49m\u001B[43m,\u001B[49m\u001B[43m \u001B[49m\u001B[43marg\u001B[49m\u001B[43m,\u001B[49m\u001B[43m \u001B[49m\u001B[43msuspend_type\u001B[49m\u001B[43m,\u001B[49m\u001B[43m \u001B[49m\u001B[43mfrom_this_thread\u001B[49m\u001B[43m)\u001B[49m\n",
      "File \u001B[1;32mC:\\Program Files\\JetBrains\\PyCharm 2022.3.2\\plugins\\python\\helpers\\pydev\\pydevd.py:1175\u001B[0m, in \u001B[0;36mPyDB._do_wait_suspend\u001B[1;34m(self, thread, frame, event, arg, suspend_type, from_this_thread)\u001B[0m\n\u001B[0;32m   1172\u001B[0m             \u001B[38;5;28mself\u001B[39m\u001B[38;5;241m.\u001B[39m_call_mpl_hook()\n\u001B[0;32m   1174\u001B[0m         \u001B[38;5;28mself\u001B[39m\u001B[38;5;241m.\u001B[39mprocess_internal_commands()\n\u001B[1;32m-> 1175\u001B[0m         time\u001B[38;5;241m.\u001B[39msleep(\u001B[38;5;241m0.01\u001B[39m)\n\u001B[0;32m   1177\u001B[0m \u001B[38;5;28mself\u001B[39m\u001B[38;5;241m.\u001B[39mcancel_async_evaluation(get_current_thread_id(thread), \u001B[38;5;28mstr\u001B[39m(\u001B[38;5;28mid\u001B[39m(frame)))\n\u001B[0;32m   1179\u001B[0m \u001B[38;5;66;03m# process any stepping instructions\u001B[39;00m\n",
      "\u001B[1;31mKeyboardInterrupt\u001B[0m: "
     ]
    }
   ],
   "source": [
    "for it in range(len(CATEGORICAL_VARIABLES) - 1):\n",
    "    for jt in range(it + 1, len(CATEGORICAL_VARIABLES)):\n",
    "        lh_var, rh_var = CATEGORICAL_VARIABLES[it], CATEGORICAL_VARIABLES[jt]\n",
    "\n",
    "        lh_dataset = DatasetManager.obj_list_to_np_array(dataset_obj_list, [lh_var]).astype(np.object).reshape(-1)\n",
    "\n",
    "        rh_dataset = DatasetManager.obj_list_to_np_array(dataset_obj_list, [rh_var]).astype(np.object).reshape(-1)\n",
    "\n",
    "        chi2_test = scpy_stats.chisquare(lh_dataset, rh_dataset)\n",
    "\n",
    "        print(\"da\")"
   ],
   "metadata": {
    "collapsed": false
   }
  },
  {
   "cell_type": "code",
   "execution_count": null,
   "outputs": [],
   "source": [],
   "metadata": {
    "collapsed": false
   }
  }
 ],
 "metadata": {
  "kernelspec": {
   "display_name": "Python 3",
   "language": "python",
   "name": "python3"
  },
  "language_info": {
   "codemirror_mode": {
    "name": "ipython",
    "version": 3
   },
   "file_extension": ".py",
   "mimetype": "text/x-python",
   "name": "python",
   "nbconvert_exporter": "python",
   "pygments_lexer": "ipython3",
   "version": "3.11.6"
  }
 },
 "nbformat": 4,
 "nbformat_minor": 2
}
