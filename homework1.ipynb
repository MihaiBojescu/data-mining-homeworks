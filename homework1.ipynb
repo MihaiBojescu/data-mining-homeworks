{
 "cells": [
  {
   "cell_type": "markdown",
   "metadata": {},
   "source": [
    "# Homework 1"
   ]
  },
  {
   "cell_type": "markdown",
   "metadata": {},
   "source": [
    "## Dependencies"
   ]
  },
  {
   "cell_type": "code",
   "execution_count": 44,
   "metadata": {},
   "outputs": [],
   "source": [
    "import csv\n",
    "from matplotlib import pyplot as plt\n",
    "import typing as t\n",
    "import numpy as np\n",
    "import numpy.typing as npt\n",
    "from statistics import mode as stats_mode\n",
    "\n",
    "import warnings\n",
    "warnings.filterwarnings(\"ignore\")"
   ]
  },
  {
   "cell_type": "code",
   "execution_count": 45,
   "metadata": {},
   "outputs": [],
   "source": [
    "class Person:\n",
    "    Gender: str\n",
    "    Age: int\n",
    "    Height: float\n",
    "    Weight: float\n",
    "    family_history_with_overweight: str\n",
    "    FAVC: str\n",
    "    FCVC: int\n",
    "    NCP: int\n",
    "    CAEC: str\n",
    "    SMOKE: str\n",
    "    CH2O: int\n",
    "    SCC: str\n",
    "    FAF: str\n",
    "    TUE: int\n",
    "    CALC: str\n",
    "    MTRANS: str\n",
    "    NObeyesdad: str\n",
    "\n",
    "    def __init__(\n",
    "        self,\n",
    "        Gender: str,\n",
    "        Age: int,\n",
    "        Height: float,\n",
    "        Weight: float,\n",
    "        family_history_with_overweight: str,\n",
    "        FAVC: str,\n",
    "        FCVC: int,\n",
    "        NCP: int,\n",
    "        CAEC: str,\n",
    "        SMOKE: str,\n",
    "        CH2O: int,\n",
    "        SCC: str,\n",
    "        FAF: str,\n",
    "        TUE: int,\n",
    "        CALC: str,\n",
    "        MTRANS: str,\n",
    "        NObeyesdad: str,\n",
    "    ):\n",
    "        self.Gender = Gender\n",
    "        self.Age = Age\n",
    "        self.Height = Height\n",
    "        self.Weight = Weight\n",
    "        self.family_history_with_overweight = family_history_with_overweight\n",
    "        self.FAVC = FAVC\n",
    "        self.FCVC = FCVC\n",
    "        self.NCP = NCP\n",
    "        self.CAEC = CAEC\n",
    "        self.SMOKE = SMOKE\n",
    "        self.CH2O = CH2O\n",
    "        self.SCC = SCC\n",
    "        self.FAF = FAF\n",
    "        self.TUE = TUE\n",
    "        self.CALC = CALC\n",
    "        self.MTRANS = MTRANS\n",
    "        self.NObeyesdad = NObeyesdad\n",
    "\n",
    "    def __str__(self):\n",
    "        return (\n",
    "            \"{\"\n",
    "            + f'\"Gender\": \"{self.Gender}\",'\n",
    "            + f'\"Age\": {self.Age},'\n",
    "            + f'\"Height\": {self.Height},'\n",
    "            + f'\"Weight\": {self.Weight},'\n",
    "            + f'\"family_history_with_overweight\": \"{self.family_history_with_overweight}\",'\n",
    "            + f'\"FAVC\": \"{self.FAVC}\",'\n",
    "            + f'\"FCVC\": {self.FCVC},'\n",
    "            + f'\"NCP\": {self.NCP},'\n",
    "            + f'\"CAEC\": \"{self.CAEC}\",'\n",
    "            + f'\"SMOKE\": \"{self.SMOKE}\",'\n",
    "            + f'\"CH2O\": {self.CH2O},'\n",
    "            + f'\"SCC\": {self.SCC},'\n",
    "            + f'\"FAF\": \"{self.FAF}\",'\n",
    "            + f'\"TUE\": {self.TUE},'\n",
    "            + f'\"CALC\": \"{self.CALC}\",'\n",
    "            + f'\"MTRANS\": \"{self.MTRANS}\",'\n",
    "            + f'\"NObeyesdad\": \"{self.NObeyesdad}\"'\n",
    "            + \"}\"\n",
    "        )\n",
    "    \n",
    "    def __len__(self):\n",
    "        return 17\n",
    "    \n",
    "    __repr__ = __str__"
   ]
  },
  {
   "cell_type": "code",
   "execution_count": 46,
   "metadata": {},
   "outputs": [],
   "source": [
    "data: t.List[Person] = []\n",
    "\n",
    "with open('data/ObesityDataSet.csv') as csv_file:\n",
    "    csv_reader = csv.DictReader(csv_file)\n",
    "    data = [Person(**row) for row in csv_reader]"
   ]
  },
  {
   "cell_type": "markdown",
   "metadata": {},
   "source": [
    "## Univariate analysis\n",
    "\n",
    "The following will be applied:\n",
    "1. central tendency\n",
    "1. spread\n",
    "1. distribution form (skewness, kurtosis)\n",
    "1. frequency of categorial data\n",
    "1. graphs (boxplots, histograms, density)"
   ]
  },
  {
   "cell_type": "markdown",
   "metadata": {},
   "source": [
    "### 1. Central tendency"
   ]
  },
  {
   "cell_type": "code",
   "execution_count": 47,
   "metadata": {},
   "outputs": [],
   "source": [
    "def central_tendency(dataset: t.List[any]) -> t.Tuple[float, float, float]:\n",
    "    np_dataset = np.array(dataset)\n",
    "\n",
    "    mean = np.mean(np_dataset)\n",
    "    median = np.median(np_dataset)\n",
    "    mode = stats_mode(np_dataset)\n",
    "\n",
    "    return mean, median, mode"
   ]
  },
  {
   "cell_type": "code",
   "execution_count": 48,
   "metadata": {},
   "outputs": [
    {
     "ename": "UFuncTypeError",
     "evalue": "ufunc 'add' did not contain a loop with signature matching types (dtype('<U9'), dtype('<U9')) -> None",
     "output_type": "error",
     "traceback": [
      "\u001b[0;31m---------------------------------------------------------------------------\u001b[0m",
      "\u001b[0;31mUFuncTypeError\u001b[0m                            Traceback (most recent call last)",
      "Cell \u001b[0;32mIn[48], line 6\u001b[0m\n\u001b[1;32m      4\u001b[0m \u001b[38;5;28;01mfor\u001b[39;00m field \u001b[38;5;129;01min\u001b[39;00m fields:\n\u001b[1;32m      5\u001b[0m     values \u001b[38;5;241m=\u001b[39m [\u001b[38;5;28mgetattr\u001b[39m(entry, field) \u001b[38;5;28;01mfor\u001b[39;00m entry \u001b[38;5;129;01min\u001b[39;00m data]\n\u001b[0;32m----> 6\u001b[0m     central_tendency_results \u001b[38;5;241m=\u001b[39m \u001b[43mcentral_tendency\u001b[49m\u001b[43m(\u001b[49m\u001b[43mvalues\u001b[49m\u001b[43m)\u001b[49m\n",
      "Cell \u001b[0;32mIn[47], line 4\u001b[0m, in \u001b[0;36mcentral_tendency\u001b[0;34m(dataset)\u001b[0m\n\u001b[1;32m      1\u001b[0m \u001b[38;5;28;01mdef\u001b[39;00m \u001b[38;5;21mcentral_tendency\u001b[39m(dataset: t\u001b[38;5;241m.\u001b[39mList[\u001b[38;5;28many\u001b[39m]) \u001b[38;5;241m-\u001b[39m\u001b[38;5;241m>\u001b[39m t\u001b[38;5;241m.\u001b[39mTuple[\u001b[38;5;28mfloat\u001b[39m, \u001b[38;5;28mfloat\u001b[39m, \u001b[38;5;28mfloat\u001b[39m]:\n\u001b[1;32m      2\u001b[0m     np_dataset \u001b[38;5;241m=\u001b[39m np\u001b[38;5;241m.\u001b[39marray(dataset)\n\u001b[0;32m----> 4\u001b[0m     mean \u001b[38;5;241m=\u001b[39m \u001b[43mnp\u001b[49m\u001b[38;5;241;43m.\u001b[39;49m\u001b[43mmean\u001b[49m\u001b[43m(\u001b[49m\u001b[43mnp_dataset\u001b[49m\u001b[43m)\u001b[49m\n\u001b[1;32m      5\u001b[0m     median \u001b[38;5;241m=\u001b[39m np\u001b[38;5;241m.\u001b[39mmedian(np_dataset)\n\u001b[1;32m      6\u001b[0m     mode \u001b[38;5;241m=\u001b[39m stats_mode(np_dataset)\n",
      "File \u001b[0;32m~/Documents/Personal/Facultate/Master Anul 1/Data mining/Homework 1/venv/lib/python3.11/site-packages/numpy/core/fromnumeric.py:3504\u001b[0m, in \u001b[0;36mmean\u001b[0;34m(a, axis, dtype, out, keepdims, where)\u001b[0m\n\u001b[1;32m   3501\u001b[0m     \u001b[38;5;28;01melse\u001b[39;00m:\n\u001b[1;32m   3502\u001b[0m         \u001b[38;5;28;01mreturn\u001b[39;00m mean(axis\u001b[38;5;241m=\u001b[39maxis, dtype\u001b[38;5;241m=\u001b[39mdtype, out\u001b[38;5;241m=\u001b[39mout, \u001b[38;5;241m*\u001b[39m\u001b[38;5;241m*\u001b[39mkwargs)\n\u001b[0;32m-> 3504\u001b[0m \u001b[38;5;28;01mreturn\u001b[39;00m \u001b[43m_methods\u001b[49m\u001b[38;5;241;43m.\u001b[39;49m\u001b[43m_mean\u001b[49m\u001b[43m(\u001b[49m\u001b[43ma\u001b[49m\u001b[43m,\u001b[49m\u001b[43m \u001b[49m\u001b[43maxis\u001b[49m\u001b[38;5;241;43m=\u001b[39;49m\u001b[43maxis\u001b[49m\u001b[43m,\u001b[49m\u001b[43m \u001b[49m\u001b[43mdtype\u001b[49m\u001b[38;5;241;43m=\u001b[39;49m\u001b[43mdtype\u001b[49m\u001b[43m,\u001b[49m\n\u001b[1;32m   3505\u001b[0m \u001b[43m                      \u001b[49m\u001b[43mout\u001b[49m\u001b[38;5;241;43m=\u001b[39;49m\u001b[43mout\u001b[49m\u001b[43m,\u001b[49m\u001b[43m \u001b[49m\u001b[38;5;241;43m*\u001b[39;49m\u001b[38;5;241;43m*\u001b[39;49m\u001b[43mkwargs\u001b[49m\u001b[43m)\u001b[49m\n",
      "File \u001b[0;32m~/Documents/Personal/Facultate/Master Anul 1/Data mining/Homework 1/venv/lib/python3.11/site-packages/numpy/core/_methods.py:118\u001b[0m, in \u001b[0;36m_mean\u001b[0;34m(a, axis, dtype, out, keepdims, where)\u001b[0m\n\u001b[1;32m    115\u001b[0m         dtype \u001b[38;5;241m=\u001b[39m mu\u001b[38;5;241m.\u001b[39mdtype(\u001b[38;5;124m'\u001b[39m\u001b[38;5;124mf4\u001b[39m\u001b[38;5;124m'\u001b[39m)\n\u001b[1;32m    116\u001b[0m         is_float16_result \u001b[38;5;241m=\u001b[39m \u001b[38;5;28;01mTrue\u001b[39;00m\n\u001b[0;32m--> 118\u001b[0m ret \u001b[38;5;241m=\u001b[39m \u001b[43mumr_sum\u001b[49m\u001b[43m(\u001b[49m\u001b[43marr\u001b[49m\u001b[43m,\u001b[49m\u001b[43m \u001b[49m\u001b[43maxis\u001b[49m\u001b[43m,\u001b[49m\u001b[43m \u001b[49m\u001b[43mdtype\u001b[49m\u001b[43m,\u001b[49m\u001b[43m \u001b[49m\u001b[43mout\u001b[49m\u001b[43m,\u001b[49m\u001b[43m \u001b[49m\u001b[43mkeepdims\u001b[49m\u001b[43m,\u001b[49m\u001b[43m \u001b[49m\u001b[43mwhere\u001b[49m\u001b[38;5;241;43m=\u001b[39;49m\u001b[43mwhere\u001b[49m\u001b[43m)\u001b[49m\n\u001b[1;32m    119\u001b[0m \u001b[38;5;28;01mif\u001b[39;00m \u001b[38;5;28misinstance\u001b[39m(ret, mu\u001b[38;5;241m.\u001b[39mndarray):\n\u001b[1;32m    120\u001b[0m     \u001b[38;5;28;01mwith\u001b[39;00m _no_nep50_warning():\n",
      "\u001b[0;31mUFuncTypeError\u001b[0m: ufunc 'add' did not contain a loop with signature matching types (dtype('<U9'), dtype('<U9')) -> None"
     ]
    }
   ],
   "source": [
    "fields = [entry for entry in dir(data[0]) if not entry.startswith(\"__\")]\n",
    "\n",
    "for field in fields:\n",
    "    values = [getattr(entry, field) for entry in data]\n",
    "    central_tendency_results = central_tendency(values)\n"
   ]
  }
 ],
 "metadata": {
  "kernelspec": {
   "display_name": "Python 3",
   "language": "python",
   "name": "python3"
  },
  "language_info": {
   "codemirror_mode": {
    "name": "ipython",
    "version": 3
   },
   "file_extension": ".py",
   "mimetype": "text/x-python",
   "name": "python",
   "nbconvert_exporter": "python",
   "pygments_lexer": "ipython3",
   "version": "3.11.6"
  }
 },
 "nbformat": 4,
 "nbformat_minor": 2
}
