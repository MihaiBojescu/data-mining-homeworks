{
 "cells": [
  {
   "cell_type": "markdown",
   "metadata": {},
   "source": [
    "# Homework 2 - association rules\n",
    "\n",
    "In this homework we will perform association between data series in the obesity dataset."
   ]
  },
  {
   "cell_type": "markdown",
   "metadata": {},
   "source": [
    "## Conclusions\n",
    "\n",
    "TBD, need to update."
   ]
  },
  {
   "cell_type": "markdown",
   "metadata": {},
   "source": [
    "## Dependencies"
   ]
  },
  {
   "cell_type": "code",
   "execution_count": null,
   "metadata": {},
   "outputs": [
    {
     "name": "stdout",
     "output_type": "stream",
     "text": [
      "Installing missing R packages. This may take some time.\n"
     ]
    },
    {
     "name": "stderr",
     "output_type": "stream",
     "text": [
      "R[write to console]: also installing the dependencies ‘fs’, ‘rappdirs’, ‘sass’, ‘sys’, ‘evaluate’, ‘highr’, ‘xfun’, ‘bslib’, ‘fontawesome’, ‘tinytex’, ‘askpass’, ‘iterators’, ‘permute’, ‘zoo’, ‘farver’, ‘labeling’, ‘munsell’, ‘Rcpp’, ‘tweenr’, ‘polyclip’, ‘systemfonts’, ‘RcppEigen’, ‘gridExtra’, ‘RcppArmadillo’, ‘cachem’, ‘utf8’, ‘stringi’, ‘ellipsis’, ‘fastmap’, ‘knitr’, ‘rmarkdown’, ‘yaml’, ‘later’, ‘curl’, ‘mime’, ‘openssl’, ‘ca’, ‘colorspace’, ‘foreach’, ‘gclus’, ‘qap’, ‘registry’, ‘TSP’, ‘vegan’, ‘lmtest’, ‘cli’, ‘lifecycle’, ‘magrittr’, ‘pkgconfig’, ‘rlang’, ‘vctrs’, ‘cpp11’, ‘glue’, ‘gtable’, ‘isoband’, ‘scales’, ‘withr’, ‘ggforce’, ‘ggrepel’, ‘viridis’, ‘tidygraph’, ‘graphlayouts’, ‘memoise’, ‘fansi’, ‘pillar’, ‘purrr’, ‘stringr’, ‘tidyselect’, ‘R6’, ‘htmltools’, ‘htmlwidgets’, ‘httpuv’, ‘jsonlite’, ‘crosstalk’, ‘jquerylib’, ‘promises’, ‘httr’, ‘digest’, ‘viridisLite’, ‘base64enc’, ‘RColorBrewer’, ‘lazyeval’, ‘data.table’, ‘generics’, ‘seriation’, ‘vcd’, ‘igraph’, ‘scatterplot3d’, ‘ggplot2’, ‘ggraph’, ‘tibble’, ‘tidyr’, ‘dplyr’, ‘DT’, ‘plotly’, ‘visNetwork’\n",
      "\n",
      "\n"
     ]
    }
   ],
   "source": [
    "import typing as t\n",
    "import csv\n",
    "import arulespy\n",
    "\n",
    "NUMERICAL_VARIABLES = [\"Age\", \"Height\", \"Weight\", \"FCVC\", \"NCP\", \"CH2O\", \"FAF\", \"TUE\"]\n",
    "CATEGORICAL_VARIABLES = [\"FAVC\", \"CAEC\", \"CALC\", \"SCC\", \"MTRANS\", \"Gender\", \"family_history_with_overweight\", \"SMOKE\", \"NObeyesdad\"]\n",
    "\n",
    "CATEGORICAL_VARIABLES_NO_LABEL = [\"FAVC\", \"CAEC\", \"CALC\", \"SCC\", \"MTRANS\", \"Gender\", \"family_history_with_overweight\", \"SMOKE\"]\n",
    "\n",
    "LABEL_VARIABLE = \"NObeyesdad\"\n",
    "\n",
    "class Person:\n",
    "    Gender: str\n",
    "    Age: int\n",
    "    Height: float\n",
    "    Weight: float\n",
    "    family_history_with_overweight: str\n",
    "    FAVC: str\n",
    "    FCVC: int\n",
    "    NCP: int\n",
    "    CAEC: str\n",
    "    SMOKE: str\n",
    "    CH2O: int\n",
    "    SCC: str\n",
    "    FAF: str\n",
    "    TUE: int\n",
    "    CALC: str\n",
    "    MTRANS: str\n",
    "    NObeyesdad: str\n",
    "\n",
    "    def __init__(\n",
    "        self,\n",
    "        Gender: str,\n",
    "        Age: int,\n",
    "        Height: float,\n",
    "        Weight: float,\n",
    "        family_history_with_overweight: str,\n",
    "        FAVC: str,\n",
    "        FCVC: int,\n",
    "        NCP: int,\n",
    "        CAEC: str,\n",
    "        SMOKE: str,\n",
    "        CH2O: int,\n",
    "        SCC: str,\n",
    "        FAF: int,\n",
    "        TUE: int,\n",
    "        CALC: str,\n",
    "        MTRANS: str,\n",
    "        NObeyesdad: str,\n",
    "    ):\n",
    "        self.Gender = Gender\n",
    "        self.Age = Age\n",
    "        self.Height = Height\n",
    "        self.Weight = Weight\n",
    "        self.family_history_with_overweight = family_history_with_overweight\n",
    "        self.FAVC = FAVC\n",
    "        self.FCVC = FCVC\n",
    "        self.NCP = NCP\n",
    "        self.CAEC = CAEC\n",
    "        self.SMOKE = SMOKE\n",
    "        self.CH2O = CH2O\n",
    "        self.SCC = SCC\n",
    "        self.FAF = FAF\n",
    "        self.TUE = TUE\n",
    "        self.CALC = CALC\n",
    "        self.MTRANS = MTRANS\n",
    "        self.NObeyesdad = NObeyesdad\n",
    "\n",
    "    def __str__(self):\n",
    "        return (\n",
    "            \"{\"\n",
    "            + f'\"Gender\": \"{self.Gender}\",'\n",
    "            + f'\"Age\": {self.Age},'\n",
    "            + f'\"Height\": {self.Height},'\n",
    "            + f'\"Weight\": {self.Weight},'\n",
    "            + f'\"family_history_with_overweight\": \"{self.family_history_with_overweight}\",'\n",
    "            + f'\"FAVC\": \"{self.FAVC}\",'\n",
    "            + f'\"FCVC\": {self.FCVC},'\n",
    "            + f'\"NCP\": {self.NCP},'\n",
    "            + f'\"CAEC\": \"{self.CAEC}\",'\n",
    "            + f'\"SMOKE\": \"{self.SMOKE}\",'\n",
    "            + f'\"CH2O\": {self.CH2O},'\n",
    "            + f'\"SCC\": {self.SCC},'\n",
    "            + f'\"FAF\": \"{self.FAF}\",'\n",
    "            + f'\"TUE\": {self.TUE},'\n",
    "            + f'\"CALC\": \"{self.CALC}\",'\n",
    "            + f'\"MTRANS\": \"{self.MTRANS}\",'\n",
    "            + f'\"NObeyesdad\": \"{self.NObeyesdad}\"'\n",
    "            + \"}\"\n",
    "        )\n",
    "\n",
    "    def __len__(self):\n",
    "        return 17\n",
    "\n",
    "    __repr__ = __str__\n",
    "\n",
    "\n",
    "class DatasetManager:\n",
    "    def __init__(self, path_to_csv: str):\n",
    "        self.path_to_csv = path_to_csv\n",
    "\n",
    "    def load_as_obj_list(self) -> list[Person]:\n",
    "        with open(self.path_to_csv) as csv_file:\n",
    "            csv_reader = csv.DictReader(csv_file)\n",
    "            return [Person(**row) for row in csv_reader]"
   ]
  },
  {
   "cell_type": "markdown",
   "metadata": {},
   "source": [
    "## Finding associations\n",
    "\n",
    "Here we use the Associator class to get the associations."
   ]
  },
  {
   "cell_type": "code",
   "execution_count": null,
   "metadata": {},
   "outputs": [],
   "source": []
  }
 ],
 "metadata": {
  "kernelspec": {
   "display_name": "venv",
   "language": "python",
   "name": "python3"
  },
  "language_info": {
   "codemirror_mode": {
    "name": "ipython",
    "version": 3
   },
   "file_extension": ".py",
   "mimetype": "text/x-python",
   "name": "python",
   "nbconvert_exporter": "python",
   "pygments_lexer": "ipython3",
   "version": "3.11.8"
  }
 },
 "nbformat": 4,
 "nbformat_minor": 2
}
