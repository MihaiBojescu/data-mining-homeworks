{
 "cells": [
  {
   "cell_type": "markdown",
   "metadata": {},
   "source": [
    "# Homework 2 - association rules\n",
    "\n",
    "In this homework we will perform association between data series in the obesity dataset. For this notebook we will use the following formulas:\n",
    "\n",
    "$$\n",
    "\\begin{align*}\n",
    "    support(X) &= P(X) \\\\\n",
    "            &= \\frac{\\text{number of instances containing X in the dataset}}{\\text{total number of items in the dataset}} \\\\\n",
    "    \\\\\n",
    "    support(X \\rightarrow Y) &= P(X \\cap Y) \\\\\n",
    "                            &= support(X \\cup Y) \\\\\n",
    "                            &= \\frac{\\text{number of instances containing both X and Y in the dataset}}{\\text{total number of items in the dataset}} \\\\\n",
    "    \\\\\n",
    "    confidence(X \\rightarrow Y) &= P(Y|X) = \\frac{P(X \\cap Y)}{P(X)} \\\\\n",
    "                                &= \\frac{support(X \\cup Y)}{support(X)} \\\\\n",
    "    \\\\\n",
    "    lift(X \\rightarrow Y) &= \\frac{P(X \\cap Y)}{P(X) \\cdot P(Y)} \\\\\n",
    "                          &= \\frac{support(X \\cup Y)}{support(X) \\cdot support(Y)} \\\\\n",
    "    \\\\\n",
    "    conviction(X \\rightarrow Y) &= \\frac{1 - P(Y)}{1 - P(Y|X)} = \\frac{1 - P(Y)}{1 - \\frac{P(X \\cap Y)}{P(X)}} \\\\\n",
    "                                &= \\frac{1 - support(Y)}{1 - confidence(X \\rightarrow Y)} \\\\\n",
    "\\end{align*}\n",
    "$$\n",
    "\n",
    "We will use the Apriori and ECLAT algorithms."
   ]
  },
  {
   "cell_type": "markdown",
   "metadata": {},
   "source": [
    "## Conclusions\n",
    "\n",
    "TBD, need to update."
   ]
  },
  {
   "cell_type": "markdown",
   "metadata": {},
   "source": [
    "## Dependencies"
   ]
  },
  {
   "cell_type": "markdown",
   "metadata": {},
   "source": [
    "### General dependencies\n",
    "\n",
    "Imports for Python"
   ]
  },
  {
   "cell_type": "code",
   "execution_count": null,
   "metadata": {},
   "outputs": [],
   "source": [
    "import typing as t\n",
    "import csv\n",
    "import numpy as np\n",
    "import numpy.typing as npt\n",
    "import pandas as pd\n",
    "import matplotlib.pyplot as plt\n",
    "import arulespy.arules as arules\n",
    "import arulespy.arulesViz as arulesviz\n",
    "from IPython.display import HTML\n",
    "\n",
    "import warnings\n",
    "warnings.filterwarnings(\"ignore\")\n",
    "\n",
    "%matplotlib inline"
   ]
  },
  {
   "cell_type": "markdown",
   "metadata": {},
   "source": [
    "### Dataset-specific dependencies\n",
    "\n",
    "Dataset manager, known labels, known outputs for the dataset."
   ]
  },
  {
   "cell_type": "code",
   "execution_count": null,
   "metadata": {},
   "outputs": [],
   "source": [
    "NUMERICAL_VARIABLES = [\"Age\", \"Height\", \"Weight\", \"FCVC\", \"NCP\", \"CH2O\", \"FAF\", \"TUE\"]\n",
    "CATEGORICAL_VARIABLES = [\n",
    "    \"FAVC\",\n",
    "    \"CAEC\",\n",
    "    \"CALC\",\n",
    "    \"SCC\",\n",
    "    \"MTRANS\",\n",
    "    \"Gender\",\n",
    "    \"family_history_with_overweight\",\n",
    "    \"SMOKE\",\n",
    "    \"NObeyesdad\",\n",
    "]\n",
    "CATEGORICAL_VARIABLES_NO_LABEL = [\n",
    "    \"FAVC\",\n",
    "    \"CAEC\",\n",
    "    \"CALC\",\n",
    "    \"SCC\",\n",
    "    \"MTRANS\",\n",
    "    \"Gender\",\n",
    "    \"family_history_with_overweight\",\n",
    "    \"SMOKE\",\n",
    "]\n",
    "ALL_VARIABLES = [*NUMERICAL_VARIABLES, *CATEGORICAL_VARIABLES]\n",
    "ALL_VARIABLES_NO_LABEL = [*NUMERICAL_VARIABLES, *CATEGORICAL_VARIABLES_NO_LABEL]\n",
    "LABEL_VARIABLE = \"NObeyesdad\"\n",
    "LABEL_DICTIONARY = {\n",
    "    \"Age\": \"Age\",\n",
    "    \"Height\": \"Height (cm)\",\n",
    "    \"Weight\": \"Weight (kg)\",\n",
    "    \"FCVC\": \" Frequency of consumption of vegetables (times per day)\",\n",
    "    \"NCP\": \"Number of main meals\",\n",
    "    \"CH2O\": \"Consumption of water daily (Liters)\",\n",
    "    \"FAF\": \"Physical activity frequency (times per day)\",\n",
    "    \"TUE\": \"Time using technology devices (hours)\",\n",
    "    \"FAVC\": \"Frequent consumption of high caloric food\",\n",
    "    \"CAEC\": \"Consumption of food between meals\",\n",
    "    \"CALC\": \"Consumption of alcohol\",\n",
    "    \"SCC\": \"Calories consumption monitoring\",\n",
    "    \"MTRANS\": \"Transportation used\",\n",
    "    \"Gender\": \"Gender\",\n",
    "    \"family_history_with_overweight\": \"Family member suffered or suffers from overweight\",\n",
    "    \"SMOKE\": \"Smoker or not\",\n",
    "    \"NObeyesdad\": \"Obesity level\"\n",
    "}\n",
    "\n",
    "T = t.TypeVar(\"T\")\n",
    "\n",
    "\n",
    "class Person:\n",
    "    Gender: str\n",
    "    Age: int\n",
    "    Height: float\n",
    "    Weight: float\n",
    "    family_history_with_overweight: str\n",
    "    FAVC: str\n",
    "    FCVC: int\n",
    "    NCP: int\n",
    "    CAEC: str\n",
    "    SMOKE: str\n",
    "    CH2O: int\n",
    "    SCC: str\n",
    "    FAF: str\n",
    "    TUE: int\n",
    "    CALC: str\n",
    "    MTRANS: str\n",
    "    NObeyesdad: str\n",
    "\n",
    "    def __init__(\n",
    "        self,\n",
    "        Gender: str,\n",
    "        Age: int,\n",
    "        Height: float,\n",
    "        Weight: float,\n",
    "        family_history_with_overweight: str,\n",
    "        FAVC: str,\n",
    "        FCVC: int,\n",
    "        NCP: int,\n",
    "        CAEC: str,\n",
    "        SMOKE: str,\n",
    "        CH2O: int,\n",
    "        SCC: str,\n",
    "        FAF: int,\n",
    "        TUE: int,\n",
    "        CALC: str,\n",
    "        MTRANS: str,\n",
    "        NObeyesdad: str,\n",
    "    ):\n",
    "        self.Gender = Gender\n",
    "        self.Age = Age\n",
    "        self.Height = Height\n",
    "        self.Weight = Weight\n",
    "        self.family_history_with_overweight = family_history_with_overweight\n",
    "        self.FAVC = FAVC\n",
    "        self.FCVC = FCVC\n",
    "        self.NCP = NCP\n",
    "        self.CAEC = CAEC\n",
    "        self.SMOKE = SMOKE\n",
    "        self.CH2O = CH2O\n",
    "        self.SCC = SCC\n",
    "        self.FAF = FAF\n",
    "        self.TUE = TUE\n",
    "        self.CALC = CALC\n",
    "        self.MTRANS = MTRANS\n",
    "        self.NObeyesdad = NObeyesdad\n",
    "\n",
    "    def __str__(self):\n",
    "        return vars(self)\n",
    "\n",
    "    def __len__(self):\n",
    "        return len(vars(self))\n",
    "\n",
    "    def __repr__(self): \n",
    "        return vars(self)\n",
    "\n",
    "\n",
    "class DatasetManager:\n",
    "    def __init__(self, path_to_csv: str):\n",
    "        self.path_to_csv = path_to_csv\n",
    "\n",
    "    def load_as_obj_list(self) -> list[Person]:\n",
    "        with open(self.path_to_csv) as csv_file:\n",
    "            csv_reader = csv.DictReader(csv_file)\n",
    "            return [Person(**row) for row in csv_reader]"
   ]
  },
  {
   "cell_type": "code",
   "execution_count": null,
   "metadata": {},
   "outputs": [],
   "source": [
    "dataset_manager = DatasetManager(\"data/ObesityDataSet.csv\")\n",
    "dataset_obj_list = dataset_manager.load_as_obj_list()\n",
    "dataset_dataframe = pd.DataFrame.from_records(data=[vars(entry) for entry in dataset_obj_list])"
   ]
  },
  {
   "cell_type": "markdown",
   "metadata": {},
   "source": [
    "### Categorial data utility functions\n",
    "\n",
    "Here we add utility functions (if any) for the categorial data types."
   ]
  },
  {
   "cell_type": "code",
   "execution_count": null,
   "metadata": {},
   "outputs": [],
   "source": [
    "# TODO: add if any are found"
   ]
  },
  {
   "cell_type": "markdown",
   "metadata": {},
   "source": [
    "### Continuous data utility functions\n",
    "\n",
    "Here we add utility functions (if any) for the continuous data types."
   ]
  },
  {
   "cell_type": "code",
   "execution_count": null,
   "metadata": {},
   "outputs": [],
   "source": [
    "def bin_by_frequency(data: npt.NDArray[np.float32], bins: int = 30):\n",
    "    result = pd.qcut(data, q=bins, duplicates='drop')\n",
    "    return result"
   ]
  },
  {
   "cell_type": "markdown",
   "metadata": {},
   "source": [
    "## Preliminary data analysis\n",
    "\n",
    "Here we built plots for the data. Mostly for debugging purposes."
   ]
  },
  {
   "cell_type": "code",
   "execution_count": null,
   "metadata": {},
   "outputs": [],
   "source": [
    "for label in CATEGORICAL_VARIABLES_NO_LABEL:\n",
    "    pretty_label = LABEL_DICTIONARY[label]\n",
    "    data = dataset_dataframe[label].astype(str)\n",
    "\n",
    "    plt.figure()\n",
    "    plt.hist(data)\n",
    "    plt.xlabel(pretty_label)\n",
    "    plt.ylabel(\"Count\")\n",
    "    plt.show()"
   ]
  },
  {
   "cell_type": "code",
   "execution_count": null,
   "metadata": {},
   "outputs": [],
   "source": [
    "for label in NUMERICAL_VARIABLES:\n",
    "    pretty_label = LABEL_DICTIONARY[label]\n",
    "    data = dataset_dataframe[label].astype(np.float32)\n",
    "    binned_data = bin_by_frequency(data=data, bins=10)\n",
    "\n",
    "    plt.figure()\n",
    "    binned_data.value_counts().plot(kind='bar', xlabel=label, ylabel='Count', rot=90)\n",
    "    plt.xlabel(pretty_label)\n",
    "    plt.ylabel(\"Count\")\n",
    "    plt.show()"
   ]
  },
  {
   "cell_type": "markdown",
   "metadata": {},
   "source": [
    "## Finding associations\n",
    "\n",
    "Here we use the Associator class to get the associations."
   ]
  },
  {
   "cell_type": "code",
   "execution_count": null,
   "metadata": {},
   "outputs": [],
   "source": [
    "parameters = [\n",
    "    (0.7, 0.4),\n",
    "    (0.8, 0.8),\n",
    "    (0.9, 0.8),\n",
    "    (0.9, 0.9),\n",
    "    (0.95, 0.9),\n",
    "    (0.95, 0.95),\n",
    "]\n",
    "\n",
    "transactions = arules.Transactions.from_df(dataset_dataframe)\n",
    "result = \"\"\n",
    "\n",
    "for support, confidence in parameters:\n",
    "    rules = arules.apriori(\n",
    "        transactions,\n",
    "        parameter=arules.parameters({\"supp\": support, \"conf\": confidence}),\n",
    "        control=arules.parameters({\"verbose\": False}),\n",
    "    )\n",
    "    rules_dataframe = rules.as_df()\n",
    "\n",
    "    result += f\"\"\"<p>Result for Apriori run with parameters: support {support}, confidence: {confidence}</p>\"\"\"\n",
    "    result += rules_dataframe.to_html()\n",
    "    result += \"</br>\"\n",
    "\n",
    "HTML(result)\n"
   ]
  }
 ],
 "metadata": {
  "kernelspec": {
   "display_name": "venv",
   "language": "python",
   "name": "python3"
  },
  "language_info": {
   "codemirror_mode": {
    "name": "ipython",
    "version": 3
   },
   "file_extension": ".py",
   "mimetype": "text/x-python",
   "name": "python",
   "nbconvert_exporter": "python",
   "pygments_lexer": "ipython3",
   "version": "3.11.8"
  }
 },
 "nbformat": 4,
 "nbformat_minor": 2
}
