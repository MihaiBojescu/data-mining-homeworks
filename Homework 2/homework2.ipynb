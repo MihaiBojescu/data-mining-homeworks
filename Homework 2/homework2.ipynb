{
 "cells": [
  {
   "cell_type": "markdown",
   "metadata": {},
   "source": [
    "# Homework 2 - association rules\n",
    "\n",
    "In this homework we will perform association between data series in the obesity dataset. For this notebook we will use the following formulas:\n",
    "\n",
    "$$\n",
    "\\begin{align*}\n",
    "    support(X) &= P(X) \\\\\n",
    "            &= \\frac{\\text{number of instances containing X in the dataset}}{\\text{total number of items in the dataset}} \\\\\n",
    "    \\\\\n",
    "    support(X \\rightarrow Y) &= P(X \\cap Y) \\\\\n",
    "                            &= support(X \\cup Y) \\\\\n",
    "                            &= \\frac{\\text{number of instances containing both X and Y in the dataset}}{\\text{total number of items in the dataset}} \\\\\n",
    "    \\\\\n",
    "    confidence(X \\rightarrow Y) &= P(Y|X) = \\frac{P(X \\cap Y)}{P(X)} \\\\\n",
    "                                &= \\frac{support(X \\cup Y)}{support(X)} \\\\\n",
    "    \\\\\n",
    "    lift(X \\rightarrow Y) &= \\frac{P(X \\cap Y)}{P(X) \\cdot P(Y)} \\\\\n",
    "                          &= \\frac{support(X \\cup Y)}{support(X) \\cdot support(Y)} \\\\\n",
    "    \\\\\n",
    "    conviction(X \\rightarrow Y) &= \\frac{1 - P(Y)}{1 - P(Y|X)} = \\frac{1 - P(Y)}{1 - \\frac{P(X \\cap Y)}{P(X)}} \\\\\n",
    "                                &= \\frac{1 - support(Y)}{1 - confidence(X \\rightarrow Y)} \\\\\n",
    "\\end{align*}\n",
    "$$\n",
    "\n",
    "We will use the Apriori and ECLAT algorithms."
   ]
  },
  {
   "cell_type": "markdown",
   "metadata": {},
   "source": [
    "## Conclusions\n",
    "\n",
    "Using the Apriori algorithm, we gathered the following conclusions:\n",
    "- for numerical - numerical attribute analysis:\n",
    "  - With over average confidence (`0.67`) and low support (`0.27`), we can state that people that **consume many vegetables per day** also **consume more meals**\n",
    "- for categorial - categorial attribute analysis:\n",
    "  - Majority of the surveyed population **does not smoke** (support `0.97`, confidence `0.97`)\n",
    "  - Majority of the surveyed population **does not perform calories monitoring** (support `0.95`, confidence `0.95`)\n",
    "  - A good part of the surveyed population that **presents an overweight family member** reported **frequent consumption of high-caloric food** (support `0.74`, confidence `0.91`)\n",
    "- for categorial + numerical - categorial + numerical attribute analysis:\n",
    "  - With rather high confidence (`0.90`), but rather low support (`0.40`), people that **eat 3 meals per day**, **sometimes eat outside of meal hours** and **don't perform calorie monitoring** have **an overweight family member**"
   ]
  },
  {
   "cell_type": "markdown",
   "metadata": {},
   "source": [
    "## Dependencies"
   ]
  },
  {
   "cell_type": "markdown",
   "metadata": {},
   "source": [
    "### General dependencies\n",
    "\n",
    "Imports for Python"
   ]
  },
  {
   "cell_type": "markdown",
   "metadata": {},
   "source": [
    "### Dataset-specific dependencies\n",
    "\n",
    "Dataset manager, known labels, known outputs for the dataset."
   ]
  },
  {
   "cell_type": "code",
   "execution_count": null,
   "metadata": {},
   "outputs": [],
   "source": [
    "import typing as t\n",
    "import csv\n",
    "import numpy as np\n",
    "import numpy.typing as npt\n",
    "import pandas as pd\n",
    "import matplotlib.pyplot as plt\n",
    "import arulespy.arules as arules\n",
    "import arulespy.arulesViz as arulesviz\n",
    "import rpy2.robjects.packages as packages\n",
    "import rpy2.robjects.lib.ggplot2 as gp\n",
    "from arulespy.arulesViz import plot, inspectDT\n",
    "from IPython.display import HTML, IFrame\n",
    "from rpy2.ipython.ggplot import image_png\n",
    "htmlwidgets = packages.importr(\"htmlwidgets\")\n",
    "\n",
    "\n",
    "import warnings\n",
    "warnings.filterwarnings(\"ignore\")\n",
    "\n",
    "%matplotlib inline"
   ]
  },
  {
   "cell_type": "code",
   "execution_count": null,
   "metadata": {},
   "outputs": [],
   "source": [
    "LABEL_VARIABLE = \"NObeyesdad\"\n",
    "NUMERICAL_VARIABLES = [\"Age\", \"Height\", \"Weight\", \"FCVC\", \"NCP\", \"CH2O\", \"FAF\", \"TUE\"]\n",
    "CATEGORICAL_VARIABLES_NO_LABEL = [\n",
    "    \"FAVC\",\n",
    "    \"CAEC\",\n",
    "    \"CALC\",\n",
    "    \"SCC\",\n",
    "    \"MTRANS\",\n",
    "    \"Gender\",\n",
    "    \"family_history_with_overweight\",\n",
    "    \"SMOKE\",\n",
    "]\n",
    "CATEGORICAL_VARIABLES = [\n",
    "    *CATEGORICAL_VARIABLES_NO_LABEL,\n",
    "    LABEL_VARIABLE,\n",
    "]\n",
    "ALL_VARIABLES_NO_LABEL = [*NUMERICAL_VARIABLES, *CATEGORICAL_VARIABLES_NO_LABEL]\n",
    "ALL_VARIABLES = [*NUMERICAL_VARIABLES, *CATEGORICAL_VARIABLES]\n",
    "LABEL_DICTIONARY = {\n",
    "    \"Age\": \"Age\",\n",
    "    \"Height\": \"Height (cm)\",\n",
    "    \"Weight\": \"Weight (kg)\",\n",
    "    \"FCVC\": \" Frequency of consumption of vegetables (times per day)\",\n",
    "    \"NCP\": \"Number of main meals\",\n",
    "    \"CH2O\": \"Consumption of water daily (Liters)\",\n",
    "    \"FAF\": \"Physical activity frequency (times per day)\",\n",
    "    \"TUE\": \"Time using technology devices (hours)\",\n",
    "    \"FAVC\": \"Frequent consumption of high caloric food\",\n",
    "    \"CAEC\": \"Consumption of food between meals\",\n",
    "    \"CALC\": \"Consumption of alcohol\",\n",
    "    \"SCC\": \"Calories consumption monitoring\",\n",
    "    \"MTRANS\": \"Transportation used\",\n",
    "    \"Gender\": \"Gender\",\n",
    "    \"family_history_with_overweight\": \"Family member suffered or suffers from overweight\",\n",
    "    \"SMOKE\": \"Smoker or not\",\n",
    "    \"NObeyesdad\": \"Obesity level\",\n",
    "}\n",
    "\n",
    "T = t.TypeVar(\"T\")\n",
    "\n",
    "\n",
    "class Person:\n",
    "    Gender: str\n",
    "    Age: np.int32\n",
    "    Height: np.float32\n",
    "    Weight: np.float32\n",
    "    family_history_with_overweight: str\n",
    "    FAVC: str\n",
    "    FCVC: np.float32\n",
    "    NCP: np.float32\n",
    "    CAEC: str\n",
    "    SMOKE: str\n",
    "    CH2O: np.float32\n",
    "    SCC: str\n",
    "    FAF: np.float32\n",
    "    TUE: np.float32\n",
    "    CALC: str\n",
    "    MTRANS: str\n",
    "    NObeyesdad: str\n",
    "\n",
    "    def __init__(\n",
    "        self,\n",
    "        Gender: str,\n",
    "        Age: str,\n",
    "        Height: str,\n",
    "        Weight: str,\n",
    "        family_history_with_overweight: str,\n",
    "        FAVC: str,\n",
    "        FCVC: str,\n",
    "        NCP: str,\n",
    "        CAEC: str,\n",
    "        SMOKE: str,\n",
    "        CH2O: str,\n",
    "        SCC: str,\n",
    "        FAF: str,\n",
    "        TUE: str,\n",
    "        CALC: str,\n",
    "        MTRANS: str,\n",
    "        NObeyesdad: str,\n",
    "    ):\n",
    "        self.Gender = Gender\n",
    "        self.Age = np.float32(Age)\n",
    "        self.Height = np.float32(Height)\n",
    "        self.Weight = np.float32(Weight)\n",
    "        self.family_history_with_overweight = family_history_with_overweight\n",
    "        self.FAVC = FAVC\n",
    "        self.FCVC = np.float32(FCVC)\n",
    "        self.NCP = np.float32(NCP)\n",
    "        self.CAEC = CAEC\n",
    "        self.SMOKE = SMOKE\n",
    "        self.CH2O = np.float32(CH2O)\n",
    "        self.SCC = SCC\n",
    "        self.FAF = np.float32(FAF)\n",
    "        self.TUE = np.float32(TUE)\n",
    "        self.CALC = CALC\n",
    "        self.MTRANS = MTRANS\n",
    "        self.NObeyesdad = NObeyesdad\n",
    "\n",
    "    def __str__(self):\n",
    "        return vars(self)\n",
    "\n",
    "    def __len__(self):\n",
    "        return len(vars(self))\n",
    "\n",
    "    def __repr__(self):\n",
    "        return vars(self)\n",
    "\n",
    "\n",
    "class DatasetManager:\n",
    "    def __init__(self, path_to_csv: str):\n",
    "        self.path_to_csv = path_to_csv\n",
    "\n",
    "    def load_as_obj_list(self) -> list[Person]:\n",
    "        with open(self.path_to_csv) as csv_file:\n",
    "            csv_reader = csv.DictReader(csv_file)\n",
    "            return [Person(**row) for row in csv_reader]"
   ]
  },
  {
   "cell_type": "code",
   "execution_count": null,
   "metadata": {},
   "outputs": [],
   "source": [
    "dataset_manager = DatasetManager(\"data/ObesityDataSet.csv\")\n",
    "dataset_obj_list = dataset_manager.load_as_obj_list()\n",
    "dataset_dataframe = pd.DataFrame.from_records(\n",
    "    data=[vars(entry) for entry in dataset_obj_list]\n",
    ")"
   ]
  },
  {
   "cell_type": "markdown",
   "metadata": {},
   "source": [
    "### Categorial data utility functions\n",
    "\n",
    "Here we add utility functions (if any) for the categorial data types."
   ]
  },
  {
   "cell_type": "code",
   "execution_count": null,
   "metadata": {},
   "outputs": [],
   "source": [
    "# TODO: add if any are found"
   ]
  },
  {
   "cell_type": "markdown",
   "metadata": {},
   "source": [
    "### Continuous data utility functions\n",
    "\n",
    "Here we add utility functions (if any) for the continuous data types."
   ]
  },
  {
   "cell_type": "code",
   "execution_count": null,
   "metadata": {},
   "outputs": [],
   "source": [
    "def bin_numerical_equally_by_frequency(\n",
    "    data: t.Union[npt.NDArray[np.float32], npt.NDArray[np.int32]], bins: int = 30\n",
    "):\n",
    "    \"\"\"\n",
    "    Performs roughly equal binning based on the frequency of the items.\n",
    "    Example: For data = [1, 2, 3, 4, 5, 6, 7, 8, 9] and bins = 3, result will be (1, 3], (3, 6], (6, 9]\n",
    "    \"\"\"\n",
    "\n",
    "    if type(data[0]) is not np.float32 and type(data[0]) is not np.int32:\n",
    "        return data\n",
    "\n",
    "    result = pd.qcut(data, q=bins, duplicates=\"drop\")\n",
    "    return result"
   ]
  },
  {
   "cell_type": "markdown",
   "metadata": {},
   "source": [
    "### Algorithm utility functions\n",
    "\n",
    "Here we add utility functions for the algorithms to help us reduce code duplication."
   ]
  },
  {
   "cell_type": "code",
   "execution_count": null,
   "metadata": {},
   "outputs": [],
   "source": [
    "def run_apriori(\n",
    "    transactions: arules.ro.DataFrame, support: float, confidence: float\n",
    ") -> t.Optional[pd.DataFrame]:\n",
    "    try:\n",
    "        rules = arules.apriori(\n",
    "            transactions,\n",
    "            parameter=arules.parameters({\"supp\": support, \"conf\": confidence}),\n",
    "            control=arules.parameters({\"verbose\": False}),\n",
    "        )\n",
    "        return rules.as_df()\n",
    "    except:\n",
    "        return None\n",
    "\n",
    "\n",
    "def run_apriori_build_html(\n",
    "    transactions: arules.ro.DataFrame, support: float, confidence: float\n",
    ") -> str:\n",
    "    result = \"\"\n",
    "\n",
    "    rules_dataframe = run_apriori(\n",
    "        transactions=transactions, support=support, confidence=confidence\n",
    "    )\n",
    "\n",
    "    result += f\"<h2>Result for Apriori run (support: {support}, confidence: {confidence})</h2>\"\n",
    "    result += (\n",
    "        rules_dataframe.to_html()\n",
    "        if rules_dataframe is not None\n",
    "        else \"<p>No rules were found</p>\"\n",
    "    )\n",
    "    result += \"</br>\"\n",
    "\n",
    "    return result\n",
    "\n",
    "\n",
    "def run_eclat(\n",
    "    transactions: arules.ro.DataFrame, support: float, confidence: float\n",
    ") -> t.Optional[pd.DataFrame]:\n",
    "    try:\n",
    "        rules = arules.eclat(\n",
    "            transactions,\n",
    "            parameter=arules.parameters({\"supp\": support}),\n",
    "            control=arules.parameters({\"verbose\": False}),\n",
    "        )\n",
    "        return rules.as_df()\n",
    "    except:\n",
    "        return None\n",
    "\n",
    "\n",
    "def run_eclat_build_html(\n",
    "    transactions: arules.ro.DataFrame, support: float, confidence: float\n",
    ") -> str:\n",
    "    result = \"\"\n",
    "\n",
    "    rules_dataframe = run_eclat(\n",
    "        transactions=transactions, support=support, confidence=confidence\n",
    "    )\n",
    "\n",
    "    result += f\"<h2>Result for ECLAT run (support: {support})</h2>\"\n",
    "    result += (\n",
    "        rules_dataframe.to_html()\n",
    "        if rules_dataframe is not None\n",
    "        else \"<p>No rules were found</p>\"\n",
    "    )\n",
    "    result += \"</br>\"\n",
    "\n",
    "    return result"
   ]
  },
  {
   "cell_type": "markdown",
   "metadata": {},
   "source": [
    "## Preliminary data analysis\n",
    "\n",
    "Here we built plots for the data. Mostly for debugging purposes."
   ]
  },
  {
   "cell_type": "code",
   "execution_count": null,
   "metadata": {},
   "outputs": [],
   "source": [
    "for label in CATEGORICAL_VARIABLES_NO_LABEL:\n",
    "    pretty_label = LABEL_DICTIONARY[label]\n",
    "    dataset_subset_dataframe = dataset_dataframe[label].astype(str)\n",
    "\n",
    "    plt.figure()\n",
    "    plt.hist(dataset_subset_dataframe)\n",
    "    plt.xlabel(pretty_label)\n",
    "    plt.ylabel(\"Count\")\n",
    "    plt.show()"
   ]
  },
  {
   "cell_type": "code",
   "execution_count": null,
   "metadata": {},
   "outputs": [],
   "source": [
    "for label in NUMERICAL_VARIABLES:\n",
    "    pretty_label = LABEL_DICTIONARY[label]\n",
    "    dataset_subset_dataframe = dataset_dataframe[label].astype(np.float32)\n",
    "    binned_data = bin_numerical_equally_by_frequency(\n",
    "        data=dataset_subset_dataframe, bins=10\n",
    "    )\n",
    "\n",
    "    plt.figure()\n",
    "    binned_data.value_counts().plot(kind=\"bar\", xlabel=label, ylabel=\"Count\", rot=90)\n",
    "    plt.xlabel(pretty_label)\n",
    "    plt.ylabel(\"Count\")\n",
    "    plt.show()"
   ]
  },
  {
   "cell_type": "markdown",
   "metadata": {},
   "source": [
    "## Finding association rules\n",
    "\n",
    "Here we use the `arules` library to find association rules."
   ]
  },
  {
   "cell_type": "markdown",
   "metadata": {},
   "source": [
    "### Categorical - categorical associations with Apriori algorithm"
   ]
  },
  {
   "cell_type": "code",
   "execution_count": null,
   "metadata": {},
   "outputs": [],
   "source": [
    "parameters = [\n",
    "    (0.5, 0.90),\n",
    "    (0.7, 0.4),\n",
    "    (0.8, 0.8),\n",
    "    (0.9, 0.8),\n",
    "    (0.9, 0.9),\n",
    "    (0.95, 0.9),\n",
    "    (0.95, 0.95),\n",
    "]\n",
    "\n",
    "dataset_subset_dataframe = dataset_dataframe[CATEGORICAL_VARIABLES]\n",
    "transactions = arules.Transactions.from_df(dataset_subset_dataframe)\n",
    "result = \"\"\n",
    "\n",
    "for support, confidence in parameters:\n",
    "    result += run_apriori_build_html(\n",
    "        transactions=transactions, support=support, confidence=confidence\n",
    "    )\n",
    "\n",
    "HTML(result)"
   ]
  },
  {
   "cell_type": "markdown",
   "metadata": {},
   "source": [
    "### Categorial - categorial associations with ECLAT algorithm"
   ]
  },
  {
   "cell_type": "code",
   "execution_count": null,
   "metadata": {},
   "outputs": [],
   "source": [
    "parameters = [\n",
    "    (0.7, 0.4),\n",
    "    (0.8, 0.8),\n",
    "    (0.9, 0.8),\n",
    "    (0.9, 0.9),\n",
    "    (0.95, 0.9),\n",
    "    (0.95, 0.95),\n",
    "]\n",
    "\n",
    "dataset_subset_dataframe = dataset_dataframe[CATEGORICAL_VARIABLES]\n",
    "transactions = arules.Transactions.from_df(dataset_subset_dataframe)\n",
    "\n",
    "for support, confidence in parameters:\n",
    "    result += run_eclat_build_html(\n",
    "        transactions=transactions, support=support, confidence=confidence\n",
    "    )\n",
    "\n",
    "HTML(result)"
   ]
  },
  {
   "cell_type": "markdown",
   "metadata": {},
   "source": [
    "### Numerical - numerical associations with Apriori algorithm"
   ]
  },
  {
   "cell_type": "code",
   "execution_count": null,
   "metadata": {},
   "outputs": [],
   "source": [
    "parameters = [\n",
    "    (0.1, 0.1),\n",
    "    (0.2, 0.5),\n",
    "]\n",
    "\n",
    "dataset_subset_dataframe = dataset_dataframe[NUMERICAL_VARIABLES]\n",
    "dataset_subset_dataframe = dataset_subset_dataframe.apply(\n",
    "    lambda dataseries: bin_numerical_equally_by_frequency(data=dataseries, bins=10)\n",
    ")\n",
    "transactions = arules.Transactions.from_df(dataset_subset_dataframe)\n",
    "\n",
    "for support, confidence in parameters:\n",
    "    result += run_apriori_build_html(\n",
    "        transactions=transactions, support=support, confidence=confidence\n",
    "    )\n",
    "\n",
    "HTML(result)"
   ]
  },
  {
   "cell_type": "markdown",
   "metadata": {},
   "source": [
    "### Numerical - numerical associations with ECLAT algorithm"
   ]
  },
  {
   "cell_type": "code",
   "execution_count": null,
   "metadata": {},
   "outputs": [],
   "source": [
    "parameters = [\n",
    "    (0.1, 0.1),\n",
    "    (0.2, 0.5),\n",
    "]\n",
    "\n",
    "dataset_subset_dataframe = dataset_dataframe[NUMERICAL_VARIABLES]\n",
    "dataset_subset_dataframe = dataset_subset_dataframe.apply(\n",
    "    lambda dataseries: bin_numerical_equally_by_frequency(data=dataseries, bins=10)\n",
    ")\n",
    "transactions = arules.Transactions.from_df(dataset_subset_dataframe)\n",
    "\n",
    "for support, confidence in parameters:\n",
    "    result += run_eclat_build_html(\n",
    "        transactions=transactions, support=support, confidence=confidence\n",
    "    )\n",
    "\n",
    "HTML(result)"
   ]
  },
  {
   "cell_type": "markdown",
   "metadata": {},
   "source": [
    "### Categorical + numerical - categorical + numerical associations with Apriori algorithm"
   ]
  },
  {
   "cell_type": "code",
   "execution_count": null,
   "metadata": {},
   "outputs": [],
   "source": [
    "parameters = [\n",
    "    (0.4, 0.9),\n",
    "]\n",
    "\n",
    "dataset_subset_dataframe = dataset_dataframe[ALL_VARIABLES]\n",
    "dataset_subset_dataframe = dataset_subset_dataframe.apply(\n",
    "    lambda dataseries: bin_numerical_equally_by_frequency(data=dataseries, bins=10)\n",
    ")\n",
    "transactions = arules.Transactions.from_df(dataset_subset_dataframe)\n",
    "\n",
    "for support, confidence in parameters:\n",
    "    result += run_apriori_build_html(\n",
    "        transactions=transactions, support=support, confidence=confidence\n",
    "    )\n",
    "\n",
    "HTML(result)"
   ]
  },
  {
   "cell_type": "markdown",
   "metadata": {},
   "source": [
    "### Categorical + numerical - categorical + numerical associations with ECLAT algorithm"
   ]
  },
  {
   "cell_type": "code",
   "execution_count": null,
   "metadata": {},
   "outputs": [],
   "source": [
    "parameters = [\n",
    "    (0.4, 0.9),\n",
    "]\n",
    "\n",
    "dataset_subset_dataframe = dataset_dataframe[ALL_VARIABLES]\n",
    "dataset_subset_dataframe = dataset_subset_dataframe.apply(\n",
    "    lambda dataseries: bin_numerical_equally_by_frequency(data=dataseries, bins=10)\n",
    ")\n",
    "transactions = arules.Transactions.from_df(dataset_subset_dataframe)\n",
    "\n",
    "for support, confidence in parameters:\n",
    "    result += run_eclat_build_html(\n",
    "        transactions=transactions, support=support, confidence=confidence\n",
    "    )\n",
    "\n",
    "HTML(result)"
   ]
  },
  {
   "cell_type": "markdown",
   "metadata": {},
   "source": [
    "## Visualisations\n",
    "\n",
    "Here we visualise the rules we found using the algorithms above."
   ]
  },
  {
   "cell_type": "markdown",
   "metadata": {},
   "source": [
    "### Categorical - categorical visualisations"
   ]
  },
  {
   "cell_type": "code",
   "execution_count": null,
   "metadata": {},
   "outputs": [],
   "source": [
    "dataset_subset_dataframe = dataset_dataframe[CATEGORICAL_VARIABLES]\n",
    "transactions = arules.Transactions.from_df(dataset_subset_dataframe)\n",
    "\n",
    "rules = arules.apriori(\n",
    "    transactions,\n",
    "    parameter=arules.parameters({\"supp\": 0.5, \"conf\": 0.90}),\n",
    "    control=arules.parameters({\"verbose\": False}),\n",
    ")\n",
    "\n",
    "gg = plot(rules, method=\"scatter\")\n",
    "image_png(gg)"
   ]
  },
  {
   "cell_type": "code",
   "execution_count": null,
   "metadata": {},
   "outputs": [],
   "source": [
    "dataset_subset_dataframe = dataset_dataframe[CATEGORICAL_VARIABLES]\n",
    "transactions = arules.Transactions.from_df(dataset_subset_dataframe)\n",
    "\n",
    "rules = arules.apriori(\n",
    "    transactions,\n",
    "    parameter=arules.parameters({\"supp\": 0.5, \"conf\": 0.90}),\n",
    "    control=arules.parameters({\"verbose\": False}),\n",
    ")\n",
    "\n",
    "gg = plot(rules, method=\"grouped\")\n",
    "image_png(gg)"
   ]
  },
  {
   "cell_type": "code",
   "execution_count": null,
   "metadata": {},
   "outputs": [],
   "source": [
    "dataset_subset_dataframe = dataset_dataframe[CATEGORICAL_VARIABLES]\n",
    "transactions = arules.Transactions.from_df(dataset_subset_dataframe)\n",
    "\n",
    "rules = arules.apriori(\n",
    "    transactions,\n",
    "    parameter=arules.parameters({\"supp\": 0.5, \"conf\": 0.90}),\n",
    "    control=arules.parameters({\"verbose\": False}),\n",
    ")\n",
    "\n",
    "rules_20 = rules.sort(by = 'confidence')[0:100]\n",
    "gg = plot(rules_20, method=\"graph\")\n",
    "image_png(gg)"
   ]
  },
  {
   "cell_type": "markdown",
   "metadata": {},
   "source": [
    "### Numerical - numerical visualisations"
   ]
  },
  {
   "cell_type": "code",
   "execution_count": null,
   "metadata": {},
   "outputs": [],
   "source": [
    "dataset_subset_dataframe = dataset_dataframe[NUMERICAL_VARIABLES]\n",
    "transactions = arules.Transactions.from_df(dataset_subset_dataframe)\n",
    "\n",
    "rules = arules.apriori(\n",
    "    transactions,\n",
    "    parameter=arules.parameters({\"supp\": 0.2, \"conf\": 0.4}),\n",
    "    control=arules.parameters({\"verbose\": False}),\n",
    ")\n",
    "\n",
    "gg = plot(rules, method=\"scatter\")\n",
    "image_png(gg)"
   ]
  },
  {
   "cell_type": "code",
   "execution_count": null,
   "metadata": {},
   "outputs": [],
   "source": [
    "dataset_subset_dataframe = dataset_dataframe[NUMERICAL_VARIABLES]\n",
    "transactions = arules.Transactions.from_df(dataset_subset_dataframe)\n",
    "\n",
    "rules = arules.apriori(\n",
    "    transactions,\n",
    "    parameter=arules.parameters({\"supp\": 0.2, \"conf\": 0.4}),\n",
    "    control=arules.parameters({\"verbose\": False}),\n",
    ")\n",
    "\n",
    "gg = plot(rules, method=\"grouped\")\n",
    "image_png(gg)"
   ]
  },
  {
   "cell_type": "code",
   "execution_count": 35,
   "metadata": {},
   "outputs": [
    {
     "name": "stderr",
     "output_type": "stream",
     "text": [
      "R[write to console]: In addition: \n",
      "R[write to console]: Warning messages:\n",
      "\n",
      "R[write to console]: 1: Column(s) 1, 2, 3, 4, 5, 6, 7, 8 not logical or factor. Applying default discretization (see '? discretizeDF'). \n",
      "\n",
      "R[write to console]: 2: \n",
      "R[write to console]: In discretize(x = c(3, 3, 3, 3, 1, 3, 3, 3, 3, 3, 3, 3, 3, 3, 1,  :\n",
      "R[write to console]: \n",
      " \n",
      "R[write to console]:  The calculated breaks are: 1, 3, 3, 4\n",
      "  Only unique breaks are used reducing the number of intervals. Look at ? discretize for details.\n",
      "\n"
     ]
    },
    {
     "data": {
      "image/png": "[encoded data removed]",
      "text/plain": [
       "<IPython.core.display.Image object>"
      ]
     },
     "execution_count": 35,
     "metadata": {},
     "output_type": "execute_result"
    }
   ],
   "source": [
    "dataset_subset_dataframe = dataset_dataframe[NUMERICAL_VARIABLES]\n",
    "transactions = arules.Transactions.from_df(dataset_subset_dataframe)\n",
    "\n",
    "rules = arules.apriori(\n",
    "    transactions,\n",
    "    parameter=arules.parameters({\"supp\": 0.2, \"conf\": 0.2}),\n",
    "    control=arules.parameters({\"verbose\": False}),\n",
    ")\n",
    "\n",
    "rules_20 = rules.sort(by = 'confidence')[0:20]\n",
    "gg = plot(rules_20, method=\"graph\")\n",
    "image_png(gg)"
   ]
  }
 ],
 "metadata": {
  "kernelspec": {
   "display_name": "venv",
   "language": "python",
   "name": "python3"
  },
  "language_info": {
   "codemirror_mode": {
    "name": "ipython",
    "version": 3
   },
   "file_extension": ".py",
   "mimetype": "text/x-python",
   "name": "python",
   "nbconvert_exporter": "python",
   "pygments_lexer": "ipython3",
   "version": "3.11.8"
  }
 },
 "nbformat": 4,
 "nbformat_minor": 2
}
